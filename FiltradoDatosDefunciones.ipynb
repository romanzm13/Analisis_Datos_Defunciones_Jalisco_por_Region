{
  "nbformat": 4,
  "nbformat_minor": 0,
  "metadata": {
    "colab": {
      "provenance": [],
      "authorship_tag": "ABX9TyM0Pyyo//ycVfSFldnrzxNQ",
      "include_colab_link": true
    },
    "kernelspec": {
      "name": "python3",
      "display_name": "Python 3"
    },
    "language_info": {
      "name": "python"
    }
  },
  "cells": [
    {
      "cell_type": "markdown",
      "metadata": {
        "id": "view-in-github",
        "colab_type": "text"
      },
      "source": [
        "<a href=\"https://colab.research.google.com/github/romanzm13/Analisis_Datos_Defunciones_Jalisco_por_Region/blob/main/FiltradoDatosDefunciones.ipynb\" target=\"_parent\"><img src=\"https://colab.research.google.com/assets/colab-badge.svg\" alt=\"Open In Colab\"/></a>"
      ]
    },
    {
      "cell_type": "code",
      "source": [
        "!pip install xlrd==1.2.0"
      ],
      "metadata": {
        "colab": {
          "base_uri": "https://localhost:8080/"
        },
        "id": "yKmjuzwAmi-p",
        "outputId": "d14bbf96-0751-42a1-90d3-1c593fa8de92"
      },
      "execution_count": 1,
      "outputs": [
        {
          "output_type": "stream",
          "name": "stdout",
          "text": [
            "Collecting xlrd==1.2.0\n",
            "  Downloading xlrd-1.2.0-py2.py3-none-any.whl (103 kB)\n",
            "\u001b[2K     \u001b[90m━━━━━━━━━━━━━━━━━━━━━━━━━━━━━━━━━━━━━━━━\u001b[0m \u001b[32m103.3/103.3 kB\u001b[0m \u001b[31m2.1 MB/s\u001b[0m eta \u001b[36m0:00:00\u001b[0m\n",
            "\u001b[?25hInstalling collected packages: xlrd\n",
            "  Attempting uninstall: xlrd\n",
            "    Found existing installation: xlrd 2.0.1\n",
            "    Uninstalling xlrd-2.0.1:\n",
            "      Successfully uninstalled xlrd-2.0.1\n",
            "Successfully installed xlrd-1.2.0\n"
          ]
        }
      ]
    },
    {
      "cell_type": "code",
      "execution_count": 2,
      "metadata": {
        "id": "naSzwTxm7xl_"
      },
      "outputs": [],
      "source": [
        "from numpy import count_nonzero,arange,array,dot,asarray,zeros,apply_along_axis,around,sort,shape,savetxt,array_equal,max,argmin,argmax,fill_diagonal,ones,argsort,std,diag,random\n",
        "from matplotlib.pyplot import plot,figure,title,legend,xlabel,ylabel,grid,axhline,axvline,savefig,imshow,show,scatter,hist,bar,subplot,subplots,cm,Normalize,text\n",
        "from math import sqrt\n",
        "import pandas as pd\n",
        "from datetime import datetime,timedelta\n",
        "from scipy.stats.mstats import mquantiles\n",
        "from statistics import mean,median,mode\n",
        "from scipy.stats import poisson\n",
        "from copy import deepcopy\n",
        "pd.options.display.max_rows=10"
      ]
    },
    {
      "cell_type": "markdown",
      "source": [
        "Importar base de datos"
      ],
      "metadata": {
        "id": "hwUNBFIN-Wnp"
      }
    },
    {
      "cell_type": "code",
      "source": [
        "from google.colab import drive\n",
        "drive.mount('/content/drive')"
      ],
      "metadata": {
        "colab": {
          "base_uri": "https://localhost:8080/"
        },
        "id": "XdiK_9zl-VgS",
        "outputId": "52bcd8b4-a391-4cfe-f685-aa302236d621"
      },
      "execution_count": 3,
      "outputs": [
        {
          "output_type": "stream",
          "name": "stdout",
          "text": [
            "Mounted at /content/drive\n"
          ]
        }
      ]
    },
    {
      "cell_type": "markdown",
      "source": [
        "Los datos utilizados fueron tomados del conjunto de datos abiertos del INEGI. En concreto, la fuente es la siguiente:"
      ],
      "metadata": {
        "id": "83ybWq41YDdD"
      }
    },
    {
      "cell_type": "markdown",
      "source": [
        "Subsistema de Información Demográfica y Social. (2021). *Defunciones registradas (mortalidad general)*. Recuperado de https://www.inegi.org.mx/programas/mortalidad/#Datos_abiertos"
      ],
      "metadata": {
        "id": "QMANbKJ3YT_2"
      }
    },
    {
      "cell_type": "markdown",
      "source": [
        "Limpieza de la base de datos"
      ],
      "metadata": {
        "id": "1XiBRK3qDCQx"
      }
    },
    {
      "cell_type": "code",
      "source": [
        "\n",
        "df=pd.read_csv('/content/drive/MyDrive/DATOS_INEGI_DEFUNCIONES/conjunto_de_datos_defunciones_registradas_2021.csv')\n",
        "\n",
        "print(\"Tamaño de la base de datos:\")\n",
        "print(df.shape)\n",
        "print(\"Información general de los datos:\")\n",
        "print(df.info())\n",
        "#Cuántos diferentes valores posee cada variable\n",
        "print(\"Cantidad de valores diferentes para cada variable:\")\n",
        "print(df.nunique())\n",
        "#Verificar si hay valores nulos\n",
        "print(\"Valores nulos en cada variable\")\n",
        "print(df.isnull().sum())"
      ],
      "metadata": {
        "colab": {
          "base_uri": "https://localhost:8080/"
        },
        "id": "NbY6gfqVAc3c",
        "outputId": "06c7ecd5-317d-422a-c338-4e76f9b7f360"
      },
      "execution_count": 4,
      "outputs": [
        {
          "output_type": "stream",
          "name": "stdout",
          "text": [
            "Tamaño de la base de datos:\n",
            "(1122249, 59)\n",
            "Información general de los datos:\n",
            "<class 'pandas.core.frame.DataFrame'>\n",
            "RangeIndex: 1122249 entries, 0 to 1122248\n",
            "Data columns (total 59 columns):\n",
            " #   Column      Non-Null Count    Dtype \n",
            "---  ------      --------------    ----- \n",
            " 0   ent_regis   1122249 non-null  int64 \n",
            " 1   mun_regis   1122249 non-null  int64 \n",
            " 2   ent_resid   1122249 non-null  int64 \n",
            " 3   mun_resid   1122249 non-null  int64 \n",
            " 4   tloc_resid  1122249 non-null  int64 \n",
            " 5   loc_resid   1122249 non-null  int64 \n",
            " 6   ent_ocurr   1122249 non-null  int64 \n",
            " 7   mun_ocurr   1122249 non-null  int64 \n",
            " 8   tloc_ocurr  1122249 non-null  int64 \n",
            " 9   loc_ocurr   1122249 non-null  int64 \n",
            " 10  causa_def   1122249 non-null  object\n",
            " 11  lista_mex   1122249 non-null  object\n",
            " 12  sexo        1122249 non-null  int64 \n",
            " 13  edad        1122249 non-null  int64 \n",
            " 14  dia_ocurr   1122249 non-null  int64 \n",
            " 15  mes_ocurr   1122249 non-null  int64 \n",
            " 16  anio_ocur   1122249 non-null  int64 \n",
            " 17  dia_regis   1122249 non-null  int64 \n",
            " 18  mes_regis   1122249 non-null  int64 \n",
            " 19  anio_regis  1122249 non-null  int64 \n",
            " 20  dia_nacim   1122249 non-null  int64 \n",
            " 21  mes_nacim   1122249 non-null  int64 \n",
            " 22  anio_nacim  1122249 non-null  int64 \n",
            " 23  ocupacion   1122249 non-null  int64 \n",
            " 24  escolarida  1122249 non-null  int64 \n",
            " 25  edo_civil   1122249 non-null  int64 \n",
            " 26  presunto    1122249 non-null  int64 \n",
            " 27  ocurr_trab  1122249 non-null  int64 \n",
            " 28  lugar_ocur  1122249 non-null  int64 \n",
            " 29  necropsia   1122249 non-null  int64 \n",
            " 30  asist_medi  1122249 non-null  int64 \n",
            " 31  sitio_ocur  1122249 non-null  int64 \n",
            " 32  cond_cert   1122249 non-null  int64 \n",
            " 33  nacionalid  1122249 non-null  int64 \n",
            " 34  derechohab  1122249 non-null  int64 \n",
            " 35  embarazo    1122249 non-null  int64 \n",
            " 36  rel_emba    1122249 non-null  int64 \n",
            " 37  horas       1122249 non-null  int64 \n",
            " 38  minutos     1122249 non-null  int64 \n",
            " 39  capitulo    1122249 non-null  int64 \n",
            " 40  grupo       1122249 non-null  int64 \n",
            " 41  lista1      1122249 non-null  int64 \n",
            " 42  gr_lismex   1122249 non-null  object\n",
            " 43  vio_fami    1122249 non-null  int64 \n",
            " 44  area_ur     1122249 non-null  int64 \n",
            " 45  edad_agru   1122249 non-null  int64 \n",
            " 46  complicaro  1122249 non-null  int64 \n",
            " 47  dia_cert    1122249 non-null  int64 \n",
            " 48  mes_cert    1122249 non-null  int64 \n",
            " 49  anio_cert   1122249 non-null  int64 \n",
            " 50  maternas    1271 non-null     object\n",
            " 51  lengua      1122249 non-null  int64 \n",
            " 52  cond_act    1122249 non-null  int64 \n",
            " 53  par_agre    1122249 non-null  int64 \n",
            " 54  ent_ocules  1122249 non-null  int64 \n",
            " 55  mun_ocules  1122249 non-null  int64 \n",
            " 56  loc_ocules  1122249 non-null  int64 \n",
            " 57  razon_m     1122249 non-null  int64 \n",
            " 58  dis_re_oax  1122249 non-null  int64 \n",
            "dtypes: int64(55), object(4)\n",
            "memory usage: 505.2+ MB\n",
            "None\n",
            "Cantidad de valores diferentes para cada variable:\n",
            "ent_regis      32\n",
            "mun_regis     556\n",
            "ent_resid      36\n",
            "mun_resid     570\n",
            "tloc_resid     18\n",
            "             ... \n",
            "ent_ocules     34\n",
            "mun_ocules    373\n",
            "loc_ocules    269\n",
            "razon_m         2\n",
            "dis_re_oax     31\n",
            "Length: 59, dtype: int64\n",
            "Valores nulos en cada variable\n",
            "ent_regis     0\n",
            "mun_regis     0\n",
            "ent_resid     0\n",
            "mun_resid     0\n",
            "tloc_resid    0\n",
            "             ..\n",
            "ent_ocules    0\n",
            "mun_ocules    0\n",
            "loc_ocules    0\n",
            "razon_m       0\n",
            "dis_re_oax    0\n",
            "Length: 59, dtype: int64\n"
          ]
        }
      ]
    },
    {
      "cell_type": "code",
      "source": [
        "#Construcción del nuevo data frame\n",
        "#Sólo nos quedaremos con los campos de entidad de residencia, municipio de residencia, año de ocurrencia, lugar de ocurrencia, asistencia médica\n",
        "#sitio de ocurrencia, afiliación de servicios de salud, edad agrupada\n",
        "#Eliminar campos\n",
        "df1=df[['ent_resid','mun_resid','anio_ocur','lugar_ocur','asist_medi','sitio_ocur','derechohab','edad_agru']]\n",
        "#causa de defunción (lista_mexicana): 'lista_mex'\n",
        "#Se desea filtrar aquellas observaciones que correspondan al año de ocurrencia de 2021\n",
        "filtro1=df1['anio_ocur']==2021\n",
        "df2=df1[filtro1]\n",
        "#Sólo usaremos los datos de Jalisco\n",
        "filtro2=df2['ent_resid']==14\n",
        "df3=df2[filtro2]\n",
        "#Eliminar los registros en los que el municipio es '0' ó '999', que corresponden a Municipio no especificado\n",
        "filtro3=df3['mun_resid']!=0\n",
        "df4=df3[filtro3]\n",
        "filtro4=df4['mun_resid']!=999\n",
        "df5=df4[filtro4]\n",
        "df5.drop(['ent_resid', 'anio_ocur'],axis=1,inplace=True)\n",
        "#Borrar registros con valor nulo\n",
        "df5=df5.dropna()\n",
        "print(\"Tamaño de la base de datos:\")\n",
        "print(df5.shape)\n",
        "print(\"Información general de los datos:\")\n",
        "print(df5.info())\n",
        "print(\"Cantidad de valores diferentes para cada variable:\")\n",
        "print(df5.nunique())"
      ],
      "metadata": {
        "colab": {
          "base_uri": "https://localhost:8080/"
        },
        "id": "CjsSP63pB5ml",
        "outputId": "a80afd2b-46ba-4fa8-ad81-48af57aabbe9"
      },
      "execution_count": 5,
      "outputs": [
        {
          "output_type": "stream",
          "name": "stdout",
          "text": [
            "Tamaño de la base de datos:\n",
            "(74233, 6)\n",
            "Información general de los datos:\n",
            "<class 'pandas.core.frame.DataFrame'>\n",
            "Int64Index: 74233 entries, 57 to 1122232\n",
            "Data columns (total 6 columns):\n",
            " #   Column      Non-Null Count  Dtype\n",
            "---  ------      --------------  -----\n",
            " 0   mun_resid   74233 non-null  int64\n",
            " 1   lugar_ocur  74233 non-null  int64\n",
            " 2   asist_medi  74233 non-null  int64\n",
            " 3   sitio_ocur  74233 non-null  int64\n",
            " 4   derechohab  74233 non-null  int64\n",
            " 5   edad_agru   74233 non-null  int64\n",
            "dtypes: int64(6)\n",
            "memory usage: 4.0 MB\n",
            "None\n",
            "Cantidad de valores diferentes para cada variable:\n",
            "mun_resid     125\n",
            "lugar_ocur     11\n",
            "asist_medi      3\n",
            "sitio_ocur     13\n",
            "derechohab     10\n",
            "edad_agru      28\n",
            "dtype: int64\n"
          ]
        },
        {
          "output_type": "stream",
          "name": "stderr",
          "text": [
            "<ipython-input-5-689cab5b7ab4>:18: SettingWithCopyWarning: \n",
            "A value is trying to be set on a copy of a slice from a DataFrame\n",
            "\n",
            "See the caveats in the documentation: https://pandas.pydata.org/pandas-docs/stable/user_guide/indexing.html#returning-a-view-versus-a-copy\n",
            "  df5.drop(['ent_resid', 'anio_ocur'],axis=1,inplace=True)\n"
          ]
        }
      ]
    },
    {
      "cell_type": "code",
      "source": [
        "#Importar los datos sobre la regionalización de Jalisco\n",
        "df_reg=pd.read_excel(\"/content/drive/MyDrive/DATOS_INEGI_DEFUNCIONES/Regionalizacion_Jalisco.xlsx\",sheet_name=\"por_municipio\")\n",
        "\n",
        "#df_reg['Municipio']=df_reg['Municipio'].astype(str)\n",
        "#df_reg['Region']=df_reg['Region'].astype(str)\n",
        "\n",
        "print(\"Información general de los datos:\")\n",
        "print(df_reg.info())\n",
        "#Cuántos diferentes valores posee cada variable\n",
        "print(\"Cantidad de valores diferentes para cada variable:\")\n",
        "print(df_reg.nunique())\n",
        "#Sólo nos interesa quedarnos con la 'Clave' y el 'No_Region'\n",
        "df_reg.drop(['Municipio','Habitantes','Region'],axis=1,inplace=True)"
      ],
      "metadata": {
        "colab": {
          "base_uri": "https://localhost:8080/"
        },
        "id": "o0gIjdDgn8Hg",
        "outputId": "d3c85cf3-1297-48aa-f3df-07f1234a823b"
      },
      "execution_count": 6,
      "outputs": [
        {
          "output_type": "stream",
          "name": "stdout",
          "text": [
            "Información general de los datos:\n",
            "<class 'pandas.core.frame.DataFrame'>\n",
            "RangeIndex: 125 entries, 0 to 124\n",
            "Data columns (total 5 columns):\n",
            " #   Column      Non-Null Count  Dtype \n",
            "---  ------      --------------  ----- \n",
            " 0   Clave       125 non-null    int64 \n",
            " 1   Municipio   125 non-null    object\n",
            " 2   Habitantes  125 non-null    int64 \n",
            " 3   No_Region   125 non-null    int64 \n",
            " 4   Region      125 non-null    object\n",
            "dtypes: int64(3), object(2)\n",
            "memory usage: 5.0+ KB\n",
            "None\n",
            "Cantidad de valores diferentes para cada variable:\n",
            "Clave         125\n",
            "Municipio     125\n",
            "Habitantes    125\n",
            "No_Region      12\n",
            "Region         12\n",
            "dtype: int64\n"
          ]
        }
      ]
    },
    {
      "cell_type": "code",
      "source": [
        "#Unir los datos procedentes de los dos dataframes\n",
        "df_ext=pd.merge(df5, df_reg, left_on='mun_resid', right_on='Clave')\n",
        "#Eliminar la columna Clave de este nuevo dataframe\n",
        "df_ext.drop(['Clave'],axis=1,inplace=True)\n",
        "print(\"Información general de los datos:\")\n",
        "print(df_ext.info())\n",
        "#Cuántos diferentes valores posee cada variable\n",
        "print(\"Cantidad de valores diferentes para cada variable:\")\n",
        "print(df_ext.nunique())\n",
        "#Exportar datos filtrados como archivo csv\n",
        "df_ext.to_csv(\"Datos_filtrados_defunciones_2021.csv\",index=False)"
      ],
      "metadata": {
        "colab": {
          "base_uri": "https://localhost:8080/"
        },
        "id": "Cjo0Uc0zq0Lj",
        "outputId": "efb74252-3eb8-4b60-aacf-8b1d2ff65f35"
      },
      "execution_count": 7,
      "outputs": [
        {
          "output_type": "stream",
          "name": "stdout",
          "text": [
            "Información general de los datos:\n",
            "<class 'pandas.core.frame.DataFrame'>\n",
            "Int64Index: 74233 entries, 0 to 74232\n",
            "Data columns (total 7 columns):\n",
            " #   Column      Non-Null Count  Dtype\n",
            "---  ------      --------------  -----\n",
            " 0   mun_resid   74233 non-null  int64\n",
            " 1   lugar_ocur  74233 non-null  int64\n",
            " 2   asist_medi  74233 non-null  int64\n",
            " 3   sitio_ocur  74233 non-null  int64\n",
            " 4   derechohab  74233 non-null  int64\n",
            " 5   edad_agru   74233 non-null  int64\n",
            " 6   No_Region   74233 non-null  int64\n",
            "dtypes: int64(7)\n",
            "memory usage: 4.5 MB\n",
            "None\n",
            "Cantidad de valores diferentes para cada variable:\n",
            "mun_resid     125\n",
            "lugar_ocur     11\n",
            "asist_medi      3\n",
            "sitio_ocur     13\n",
            "derechohab     10\n",
            "edad_agru      28\n",
            "No_Region      12\n",
            "dtype: int64\n"
          ]
        }
      ]
    }
  ]
}